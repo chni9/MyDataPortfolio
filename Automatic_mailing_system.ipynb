{
  "nbformat": 4,
  "nbformat_minor": 0,
  "metadata": {
    "colab": {
      "provenance": [],
      "include_colab_link": true
    },
    "kernelspec": {
      "name": "python3",
      "display_name": "Python 3"
    },
    "language_info": {
      "name": "python"
    },
    "gpuClass": "standard"
  },
  "cells": [
    {
      "cell_type": "markdown",
      "metadata": {
        "id": "view-in-github",
        "colab_type": "text"
      },
      "source": [
        "<a href=\"https://colab.research.google.com/github/chni9/MyDataPortfolio/blob/main/Automatic_mailing_system.ipynb\" target=\"_parent\"><img src=\"https://colab.research.google.com/assets/colab-badge.svg\" alt=\"Open In Colab\"/></a>"
      ]
    },
    {
      "cell_type": "markdown",
      "source": [
        "\n",
        "# **How to use ?**\n",
        "\n"
      ],
      "metadata": {
        "id": "TmVo0MN-Rbv2"
      }
    },
    {
      "cell_type": "markdown",
      "source": [
        "**To send automatic emails to our partners :**\n",
        "\n",
        "1.   Click on the \"Run time\" menu\n",
        "2.   Click \"Run all\"\n",
        "3.   Allow connections to your Google and Google Drive (you may need to insert your password)\n",
        "4.   Check below if the mails have succesfully been sent\n",
        "\n",
        "\n",
        "\n",
        "\n"
      ],
      "metadata": {
        "id": "S5TxDqgbRg6y"
      }
    },
    {
      "cell_type": "markdown",
      "source": [
        "# **Link partner <-> news**"
      ],
      "metadata": {
        "id": "iU-LqqWCl9lw"
      }
    },
    {
      "cell_type": "markdown",
      "source": [
        "## **Extract**"
      ],
      "metadata": {
        "id": "Hjy1m9TUzaG_"
      }
    },
    {
      "cell_type": "markdown",
      "source": [
        "**Define needed variables and parameters**"
      ],
      "metadata": {
        "id": "jJ-eRKMHT_bv"
      }
    },
    {
      "cell_type": "code",
      "source": [
        "#Link of \"Partner preferences\" spreadsheet\n",
        "link_partner_pref = 'https://docs.google.com/spreadsheets/d/1BXwiMpDs3TeiOIsNnyTF-VSmY1QsokEIz2CoN7CdxJ8/edit'\n",
        "#Link of \"Categorization\" spreadsheet\n",
        "link_categorization = 'https://docs.google.com/spreadsheets/d/1rmNzama38ejksRAsDBumZCP6Hj5zHyirm1piZ7NsDts/edit#gid=0'\n",
        "#Link of \"Link partner news\" spreadsheet\n",
        "link_partner_news = 'https://docs.google.com/spreadsheets/d/1c55VVr3aII3Itf2G2686zjb21v4a9b1LR8eytZsTUKQ/edit#gid=0'\n",
        "\n",
        "#This list is the list of columns of our partners dataframe\n",
        "new_columns_partners = [\n",
        "    \"first_name1\",\n",
        "    \"last_name1\",\n",
        "    \"email1\",\n",
        "    \"company\",\n",
        "    \"first_name2\",\n",
        "    \"last_name2\",\n",
        "    \"email2\",\n",
        "    \"medical_pathway\",\n",
        "    \"medical_speciality\",\n",
        "    \"technology\",\n",
        "    \"demographic\",\n",
        "    \"geography\",\n",
        "    \"business_model\",\n",
        "    \"company_level\",\n",
        "    \"other_interests\",\n",
        "    \"date\",\n",
        "    \"token\"]\n",
        "\n",
        "#This list is the list of columns of our news/startups dataframe\n",
        "new_columns_news = [\n",
        "    \"startup\",\n",
        "    \"country\",\n",
        "    \"funding\",\n",
        "    \"news\",\n",
        "    \"category\"\n",
        "]"
      ],
      "metadata": {
        "id": "J-Y2Q81l1tGp"
      },
      "execution_count": null,
      "outputs": []
    },
    {
      "cell_type": "markdown",
      "source": [
        "**Library imports and connection to google sheets**"
      ],
      "metadata": {
        "id": "-JuwB7xHVXQk"
      }
    },
    {
      "cell_type": "code",
      "execution_count": null,
      "metadata": {
        "id": "ZiFercJqzWmS"
      },
      "outputs": [],
      "source": [
        "# Connect to server\n",
        "import smtplib\n",
        "# Manipulate DataFrames\n",
        "import pandas as pd\n",
        "# Google Spreadsheets client\n",
        "import gspread\n",
        "# Google Spreadsheets client to export dataframes to G Sheets\n",
        "import gspread_dataframe as gd\n",
        "# Authenticate with Google\n",
        "from google.auth import default\n",
        "# Authenticate with Google Colab\n",
        "from google.colab import auth\n",
        "# Connecting the drive to the Google Colab\n",
        "from google.colab import drive\n",
        "\n",
        "\n",
        "# Connect to the Google Drive API\n",
        "from googleapiclient.discovery import build\n",
        "# Error handling of Google Drive imports\n",
        "from googleapiclient.errors import HttpError\n",
        "\n",
        "# Build the email\n",
        "from email.mime.multipart import MIMEMultipart\n",
        "from email.mime.text import MIMEText\n",
        "\n",
        "import ast # To delete when cleaning the code\n",
        "\n",
        "# Used to make an API call\n",
        "import requests"
      ]
    },
    {
      "cell_type": "markdown",
      "source": [
        "**Connecting my Google account to the notebook**"
      ],
      "metadata": {
        "id": "S-WuUzbi2n_F"
      }
    },
    {
      "cell_type": "code",
      "source": [
        "#Authentification of the user\n",
        "auth.authenticate_user()\n",
        "\n",
        "#Open credential of Google\n",
        "creds, _ = default()\n",
        "\n",
        "#Connect Google Sheets to our notebook\n",
        "gc = gspread.authorize(creds)"
      ],
      "metadata": {
        "id": "BhX8ECgT2iyI"
      },
      "execution_count": null,
      "outputs": []
    },
    {
      "cell_type": "markdown",
      "source": [
        "**Import of our Google Sheets**"
      ],
      "metadata": {
        "id": "riizhcpQ0iKw"
      }
    },
    {
      "cell_type": "code",
      "source": [
        "# Open our spreadsheet of partners\n",
        "worksheet = gc.open_by_url(link_partner_pref).sheet1\n",
        "\n",
        "# get_all_values gives a list of rows.\n",
        "rows = worksheet.get_all_values()\n",
        "\n",
        "# Convert to a DataFrame\n",
        "df_partners = pd.DataFrame.from_records(rows[1:],\n",
        "                              columns=new_columns_partners)\n",
        "df_partners.index.name = \"partner_id\""
      ],
      "metadata": {
        "id": "G2PX0lyyzncv"
      },
      "execution_count": null,
      "outputs": []
    },
    {
      "cell_type": "code",
      "source": [
        "# Open our spreadsheet of news\n",
        "worksheet = gc.open_by_url(link_categorization).sheet1\n",
        "\n",
        "# get_all_values gives a list of rows.\n",
        "rows = worksheet.get_all_values()\n",
        "\n",
        "# Convert to a DataFrame\n",
        "df_news = pd.DataFrame.from_records(rows[1:],\n",
        "                                    columns=new_columns_news)\n",
        "df_news.index.name = \"news_id\"\n",
        "\n",
        "#Delete all '\\n' in the 'news' column\n",
        "df_news['news'] = df_news['news'].str.replace('\\n', '')\n"
      ],
      "metadata": {
        "id": "rq0ksfXW69At"
      },
      "execution_count": null,
      "outputs": []
    },
    {
      "cell_type": "markdown",
      "source": [
        "## **Transform**"
      ],
      "metadata": {
        "id": "FhBGA5hr-mNC"
      }
    },
    {
      "cell_type": "markdown",
      "source": [
        "**Link each partner to the news/startups of interest**"
      ],
      "metadata": {
        "id": "ve4rmwhgqXgc"
      }
    },
    {
      "cell_type": "code",
      "source": [
        "#Create an empty list to fill\n",
        "linked_news = pd.Series([None for k in range(df_news.shape[0])])\n",
        "\n",
        "# Link each partner to a startup that is in the same medical speciality\n",
        "for partner_id, speciality in enumerate(df_partners.medical_speciality):\n",
        "  linked_news[partner_id] = [news_id for news_id, category in enumerate(df_news['category']) if category in speciality]\n",
        "\n",
        "# Create a dataframe with each partner linked to news_id\n",
        "df_partners['news_id'] = linked_news"
      ],
      "metadata": {
        "id": "yFjcFtvpqX1v"
      },
      "execution_count": null,
      "outputs": []
    },
    {
      "cell_type": "markdown",
      "source": [
        "**Separating contact 1 and contact 2 into two separate rows**"
      ],
      "metadata": {
        "id": "pZGiT5u3Kklx"
      }
    },
    {
      "cell_type": "code",
      "source": [
        "# Assuming df is your existing dataframe\n",
        "df1 = df_partners.copy()\n",
        "df2 = df_partners[['first_name2', 'last_name2', 'email2', 'company',\n",
        "          'medical_pathway', 'medical_speciality', 'technology', 'demographic',\n",
        "          'geography', 'business_model', 'company_level', 'other_interests',\n",
        "          'date', 'token', 'news_id']].copy()\n",
        "\n",
        "# Rename columns in the second dataframe\n",
        "df2.rename(columns={\n",
        "    'first_name2': 'first_name1',\n",
        "    'last_name2': 'last_name1',\n",
        "    'email2': 'email1'\n",
        "}, inplace=True)\n",
        "\n",
        "# Drop the '2' columns from the first dataframe\n",
        "df1.drop(['first_name2', 'last_name2', 'email2'], axis=1, inplace=True)\n",
        "\n",
        "# Filter out rows from df2 where 'first_name1', 'last_name1', 'email1' are empty\n",
        "df2 = df2.loc[(df2['first_name1'] != '') & (df2['last_name1'] != '') & (df2['email1'] != '')]\n",
        "\n",
        "# Append the second dataframe to the first dataframe\n",
        "df_partners = df1.append(df2)\n",
        "\n",
        "# Reset the index\n",
        "df_partners.reset_index(drop=True, inplace=True)\n",
        "\n",
        "df_partners.head(3)"
      ],
      "metadata": {
        "id": "mkZCipHnJaVs",
        "colab": {
          "base_uri": "https://localhost:8080/",
          "height": 450
        },
        "outputId": "2b667d94-88e4-450d-863d-626b7b2a08a0"
      },
      "execution_count": null,
      "outputs": [
        {
          "output_type": "stream",
          "name": "stderr",
          "text": [
            "<ipython-input-41-0c4f90a57bd2>:22: FutureWarning: The frame.append method is deprecated and will be removed from pandas in a future version. Use pandas.concat instead.\n",
            "  df_partners = df1.append(df2)\n"
          ]
        },
        {
          "output_type": "execute_result",
          "data": {
            "text/plain": [
              "  first_name1 last_name1                             email1           company  \\\n",
              "0     Yassine     Chenik  yassine.chenik@ehealthventure.com               EHV   \n",
              "1      Seamus      Carey                      sca@alt-f1.be            Alt-F1   \n",
              "2     Contact        EHV         contact@ehealthventure.com  E-Health Venture   \n",
              "\n",
              "                                     medical_pathway  \\\n",
              "0                                   Health Education   \n",
              "1  Prevention, Screening, Health Education, Diagn...   \n",
              "2                                                      \n",
              "\n",
              "                                  medical_speciality  \\\n",
              "0                                Oncology, Nutrition   \n",
              "1  Cardiology, Sports Medicine, Gastroenterology,...   \n",
              "2  Physical Medicine & Rehabilitation, Ophthalmol...   \n",
              "\n",
              "                                          technology  \\\n",
              "0                                Blockchain & Crypto   \n",
              "1  Augmented & Virtual Reality, Artificial Intell...   \n",
              "2                                                      \n",
              "\n",
              "                 demographic        geography  \\\n",
              "0                    Seniors           Europe   \n",
              "1  Children, Adults, Seniors  Belgium, Europe   \n",
              "2                                               \n",
              "\n",
              "                                      business_model  \\\n",
              "0                         Hospitals & Care Providers   \n",
              "1  Employers, Direct to Consumer/Patient, Hospita...   \n",
              "2                                                      \n",
              "\n",
              "                                       company_level other_interests  \\\n",
              "0                                 Growth (Series C+)                   \n",
              "1  Venture-Building, Start-Up (Pre-Seed & Seed), ...                   \n",
              "2                                                                      \n",
              "\n",
              "                  date                             token  \\\n",
              "0  11/04/2023 15:38:09  t5y9cm7hmrxz9mlmnvt5y9cb3k0c9k4e   \n",
              "1  03/05/2023 12:38:14  i1hu4xnzxwgrrjpfbh0li1huzwut011l   \n",
              "2  17/04/2023 15:37:30  enk2ctzjtyqmp3ahenk2ctj0g3vogs4y   \n",
              "\n",
              "                                             news_id  \n",
              "0              [6, 7, 8, 11, 14, 35, 39, 43, 44, 51]  \n",
              "1  [12, 15, 18, 27, 28, 30, 36, 51, 54, 56, 62, 7...  \n",
              "2                       [1, 2, 3, 4, 45, 51, 63, 65]  "
            ],
            "text/html": [
              "\n",
              "  <div id=\"df-988e9c76-5a64-4a23-adbd-e38aefbcf890\">\n",
              "    <div class=\"colab-df-container\">\n",
              "      <div>\n",
              "<style scoped>\n",
              "    .dataframe tbody tr th:only-of-type {\n",
              "        vertical-align: middle;\n",
              "    }\n",
              "\n",
              "    .dataframe tbody tr th {\n",
              "        vertical-align: top;\n",
              "    }\n",
              "\n",
              "    .dataframe thead th {\n",
              "        text-align: right;\n",
              "    }\n",
              "</style>\n",
              "<table border=\"1\" class=\"dataframe\">\n",
              "  <thead>\n",
              "    <tr style=\"text-align: right;\">\n",
              "      <th></th>\n",
              "      <th>first_name1</th>\n",
              "      <th>last_name1</th>\n",
              "      <th>email1</th>\n",
              "      <th>company</th>\n",
              "      <th>medical_pathway</th>\n",
              "      <th>medical_speciality</th>\n",
              "      <th>technology</th>\n",
              "      <th>demographic</th>\n",
              "      <th>geography</th>\n",
              "      <th>business_model</th>\n",
              "      <th>company_level</th>\n",
              "      <th>other_interests</th>\n",
              "      <th>date</th>\n",
              "      <th>token</th>\n",
              "      <th>news_id</th>\n",
              "    </tr>\n",
              "  </thead>\n",
              "  <tbody>\n",
              "    <tr>\n",
              "      <th>0</th>\n",
              "      <td>Yassine</td>\n",
              "      <td>Chenik</td>\n",
              "      <td>yassine.chenik@ehealthventure.com</td>\n",
              "      <td>EHV</td>\n",
              "      <td>Health Education</td>\n",
              "      <td>Oncology, Nutrition</td>\n",
              "      <td>Blockchain &amp; Crypto</td>\n",
              "      <td>Seniors</td>\n",
              "      <td>Europe</td>\n",
              "      <td>Hospitals &amp; Care Providers</td>\n",
              "      <td>Growth (Series C+)</td>\n",
              "      <td></td>\n",
              "      <td>11/04/2023 15:38:09</td>\n",
              "      <td>t5y9cm7hmrxz9mlmnvt5y9cb3k0c9k4e</td>\n",
              "      <td>[6, 7, 8, 11, 14, 35, 39, 43, 44, 51]</td>\n",
              "    </tr>\n",
              "    <tr>\n",
              "      <th>1</th>\n",
              "      <td>Seamus</td>\n",
              "      <td>Carey</td>\n",
              "      <td>sca@alt-f1.be</td>\n",
              "      <td>Alt-F1</td>\n",
              "      <td>Prevention, Screening, Health Education, Diagn...</td>\n",
              "      <td>Cardiology, Sports Medicine, Gastroenterology,...</td>\n",
              "      <td>Augmented &amp; Virtual Reality, Artificial Intell...</td>\n",
              "      <td>Children, Adults, Seniors</td>\n",
              "      <td>Belgium, Europe</td>\n",
              "      <td>Employers, Direct to Consumer/Patient, Hospita...</td>\n",
              "      <td>Venture-Building, Start-Up (Pre-Seed &amp; Seed), ...</td>\n",
              "      <td></td>\n",
              "      <td>03/05/2023 12:38:14</td>\n",
              "      <td>i1hu4xnzxwgrrjpfbh0li1huzwut011l</td>\n",
              "      <td>[12, 15, 18, 27, 28, 30, 36, 51, 54, 56, 62, 7...</td>\n",
              "    </tr>\n",
              "    <tr>\n",
              "      <th>2</th>\n",
              "      <td>Contact</td>\n",
              "      <td>EHV</td>\n",
              "      <td>contact@ehealthventure.com</td>\n",
              "      <td>E-Health Venture</td>\n",
              "      <td></td>\n",
              "      <td>Physical Medicine &amp; Rehabilitation, Ophthalmol...</td>\n",
              "      <td></td>\n",
              "      <td></td>\n",
              "      <td></td>\n",
              "      <td></td>\n",
              "      <td></td>\n",
              "      <td></td>\n",
              "      <td>17/04/2023 15:37:30</td>\n",
              "      <td>enk2ctzjtyqmp3ahenk2ctj0g3vogs4y</td>\n",
              "      <td>[1, 2, 3, 4, 45, 51, 63, 65]</td>\n",
              "    </tr>\n",
              "  </tbody>\n",
              "</table>\n",
              "</div>\n",
              "      <button class=\"colab-df-convert\" onclick=\"convertToInteractive('df-988e9c76-5a64-4a23-adbd-e38aefbcf890')\"\n",
              "              title=\"Convert this dataframe to an interactive table.\"\n",
              "              style=\"display:none;\">\n",
              "        \n",
              "  <svg xmlns=\"http://www.w3.org/2000/svg\" height=\"24px\"viewBox=\"0 0 24 24\"\n",
              "       width=\"24px\">\n",
              "    <path d=\"M0 0h24v24H0V0z\" fill=\"none\"/>\n",
              "    <path d=\"M18.56 5.44l.94 2.06.94-2.06 2.06-.94-2.06-.94-.94-2.06-.94 2.06-2.06.94zm-11 1L8.5 8.5l.94-2.06 2.06-.94-2.06-.94L8.5 2.5l-.94 2.06-2.06.94zm10 10l.94 2.06.94-2.06 2.06-.94-2.06-.94-.94-2.06-.94 2.06-2.06.94z\"/><path d=\"M17.41 7.96l-1.37-1.37c-.4-.4-.92-.59-1.43-.59-.52 0-1.04.2-1.43.59L10.3 9.45l-7.72 7.72c-.78.78-.78 2.05 0 2.83L4 21.41c.39.39.9.59 1.41.59.51 0 1.02-.2 1.41-.59l7.78-7.78 2.81-2.81c.8-.78.8-2.07 0-2.86zM5.41 20L4 18.59l7.72-7.72 1.47 1.35L5.41 20z\"/>\n",
              "  </svg>\n",
              "      </button>\n",
              "      \n",
              "  <style>\n",
              "    .colab-df-container {\n",
              "      display:flex;\n",
              "      flex-wrap:wrap;\n",
              "      gap: 12px;\n",
              "    }\n",
              "\n",
              "    .colab-df-convert {\n",
              "      background-color: #E8F0FE;\n",
              "      border: none;\n",
              "      border-radius: 50%;\n",
              "      cursor: pointer;\n",
              "      display: none;\n",
              "      fill: #1967D2;\n",
              "      height: 32px;\n",
              "      padding: 0 0 0 0;\n",
              "      width: 32px;\n",
              "    }\n",
              "\n",
              "    .colab-df-convert:hover {\n",
              "      background-color: #E2EBFA;\n",
              "      box-shadow: 0px 1px 2px rgba(60, 64, 67, 0.3), 0px 1px 3px 1px rgba(60, 64, 67, 0.15);\n",
              "      fill: #174EA6;\n",
              "    }\n",
              "\n",
              "    [theme=dark] .colab-df-convert {\n",
              "      background-color: #3B4455;\n",
              "      fill: #D2E3FC;\n",
              "    }\n",
              "\n",
              "    [theme=dark] .colab-df-convert:hover {\n",
              "      background-color: #434B5C;\n",
              "      box-shadow: 0px 1px 3px 1px rgba(0, 0, 0, 0.15);\n",
              "      filter: drop-shadow(0px 1px 2px rgba(0, 0, 0, 0.3));\n",
              "      fill: #FFFFFF;\n",
              "    }\n",
              "  </style>\n",
              "\n",
              "      <script>\n",
              "        const buttonEl =\n",
              "          document.querySelector('#df-988e9c76-5a64-4a23-adbd-e38aefbcf890 button.colab-df-convert');\n",
              "        buttonEl.style.display =\n",
              "          google.colab.kernel.accessAllowed ? 'block' : 'none';\n",
              "\n",
              "        async function convertToInteractive(key) {\n",
              "          const element = document.querySelector('#df-988e9c76-5a64-4a23-adbd-e38aefbcf890');\n",
              "          const dataTable =\n",
              "            await google.colab.kernel.invokeFunction('convertToInteractive',\n",
              "                                                     [key], {});\n",
              "          if (!dataTable) return;\n",
              "\n",
              "          const docLinkHtml = 'Like what you see? Visit the ' +\n",
              "            '<a target=\"_blank\" href=https://colab.research.google.com/notebooks/data_table.ipynb>data table notebook</a>'\n",
              "            + ' to learn more about interactive tables.';\n",
              "          element.innerHTML = '';\n",
              "          dataTable['output_type'] = 'display_data';\n",
              "          await google.colab.output.renderOutput(dataTable, element);\n",
              "          const docLink = document.createElement('div');\n",
              "          docLink.innerHTML = docLinkHtml;\n",
              "          element.appendChild(docLink);\n",
              "        }\n",
              "      </script>\n",
              "    </div>\n",
              "  </div>\n",
              "  "
            ]
          },
          "metadata": {},
          "execution_count": 41
        }
      ]
    },
    {
      "cell_type": "code",
      "source": [
        "# Creating a 'tags' column which is a merge of all preferences columns\n",
        "df_partners['tags'] = df_partners[['medical_pathway', 'medical_speciality', 'technology',\n",
        "                 'demographic', 'geography', 'business_model',\n",
        "                 'company_level']].apply(lambda row: ', '.join(row.values.astype(str)), axis=1)"
      ],
      "metadata": {
        "id": "0pfvsLtuWVyw"
      },
      "execution_count": null,
      "outputs": []
    },
    {
      "cell_type": "markdown",
      "source": [
        "## **Load**"
      ],
      "metadata": {
        "id": "MjQ04QxeTxov"
      }
    },
    {
      "cell_type": "markdown",
      "source": [
        "**Export of our tables into GSheets**"
      ],
      "metadata": {
        "id": "sDL79owIzFUy"
      }
    },
    {
      "cell_type": "code",
      "source": [
        "#Export the dataframe into a google sheets\n",
        "\n",
        "#Open a new sheet\n",
        "sheet1 = gc.open_by_url(link_partner_news)\n",
        "sheet_name1 = \"Partners\"\n",
        "worksheet = sheet1.worksheet(sheet_name1)\n",
        "#Export our \"df_partner_linked\" dataframe into our worksheet\n",
        "gd.set_with_dataframe(worksheet, df_partners)\n",
        "\n",
        "\n",
        "print('Data uploaded to Google Sheets!')"
      ],
      "metadata": {
        "id": "g8T-Y5zG7tjI",
        "colab": {
          "base_uri": "https://localhost:8080/"
        },
        "outputId": "51091784-d6ed-4bf3-93be-42dd9288fe1f"
      },
      "execution_count": null,
      "outputs": [
        {
          "output_type": "stream",
          "name": "stdout",
          "text": [
            "Data uploaded to Google Sheets!\n"
          ]
        }
      ]
    },
    {
      "cell_type": "markdown",
      "source": [
        "# **Automatic mailing**"
      ],
      "metadata": {
        "id": "gc-QoX0HmMj8"
      }
    },
    {
      "cell_type": "markdown",
      "source": [
        "## **Pre-processing**"
      ],
      "metadata": {
        "id": "9XUpgUegd328"
      }
    },
    {
      "cell_type": "markdown",
      "source": [
        "**Extracting the needed informations for the mail (startups and news)**"
      ],
      "metadata": {
        "id": "jMhwyhqrTNQf"
      }
    },
    {
      "cell_type": "code",
      "source": [
        "all_mail_informations = []\n",
        "#Message to notify if the mail has been sent succesfully\n",
        "success_message = \"\"\n",
        "\n",
        "for partner_id in df_partners.index:\n",
        "  one_mail_informations = []\n",
        "\n",
        "  #Extracting Name and Email address\n",
        "  one_mail_informations.append((\"first_name\",df_partners.loc[partner_id, \"first_name1\"]))\n",
        "  one_mail_informations.append((\"address\",df_partners.loc[partner_id, \"email1\"]))\n",
        "\n",
        "  #Extracting 3 startups, categories and descriptions (news)\n",
        "  if len(df_partners.loc[partner_id, \"news_id\"]) >= 3:\n",
        "    for i, news_id in enumerate(df_partners.loc[partner_id, \"news_id\"], start=1):\n",
        "      if i <= 3:\n",
        "          one_mail_informations.extend([(f\"startup{i}\", df_news.loc[news_id, \"startup\"]),\n",
        "                                        (f\"category{i}\", df_news.loc[news_id, \"category\"]),\n",
        "                                        (f\"news{i}\", df_news.loc[news_id, \"news\"])])\n",
        "  else:\n",
        "    success_message += f\"Mail not sent to {df_partners.loc[partner_id, 'email1']}. Not enough matched news/startups\\n\"\n",
        "\n",
        "  #Extracting the list of unique categories of interest and formatting it into a natural sentence\n",
        "  unique_categories = df_partners.loc[partner_id, \"medical_speciality\"].split(\", \")\n",
        "  list_category = unique_categories[0] if len(unique_categories) == 1 else \" and \".join([\", \".join(unique_categories[:-1]), unique_categories[-1]]) if len(unique_categories) > 1 else \"\"\n",
        "  one_mail_informations.append(('list_category',list_category))\n",
        "\n",
        "  #Transforming th mail informations into a dictionnary\n",
        "  one_mail_informations = dict(one_mail_informations)\n",
        "\n",
        "  #Adding the mail informations in the list of all the mails informations\n",
        "  all_mail_informations.append(one_mail_informations)"
      ],
      "metadata": {
        "id": "trMZ-AdVBdm5"
      },
      "execution_count": null,
      "outputs": []
    },
    {
      "cell_type": "markdown",
      "source": [
        "**API call**"
      ],
      "metadata": {
        "id": "2UyKnXUVkwUW"
      }
    },
    {
      "cell_type": "code",
      "source": [
        "all_html = list()\n",
        "for partner_id in df_partners.index:\n",
        "  # Extracting the tags and company of each partner\n",
        "  tags = df_partners.loc[partner_id, \"tags\"]\n",
        "  company = df_partners.loc[partner_id, \"company\"]\n",
        "  name = df_partners.loc[partner_id, \"first_name1\"]\n",
        "\n",
        "  # Remove the commas from the string\n",
        "  tags = tags.replace(\",\", \"\")\n",
        "\n",
        "  url = 'https://stg-dot-europeangrantstenders.ew.r.appspot.com/api/calls'\n",
        "  params = {\n",
        "      'companyId': company,\n",
        "      'tags': tags,\n",
        "      'recipientName': name\n",
        "  }\n",
        "\n",
        "  response = requests.get(url, params=params)\n",
        "\n",
        "  # Check the status code to ensure the request was successful (200)\n",
        "  if response.status_code == 200:\n",
        "      all_html.append(response.text)\n",
        "  else:\n",
        "      print('Error occurred:', response.status_code)"
      ],
      "metadata": {
        "id": "ZLNiEcwCkZLT"
      },
      "execution_count": null,
      "outputs": []
    },
    {
      "cell_type": "markdown",
      "source": [
        "## **Automatic newsletter**"
      ],
      "metadata": {
        "id": "h98e06YeiqY_"
      }
    },
    {
      "cell_type": "markdown",
      "source": [
        "**Mailjet API installation**"
      ],
      "metadata": {
        "id": "9qRIMqwHcDYe"
      }
    },
    {
      "cell_type": "code",
      "source": [
        "#Installing the mailjet module for python\n",
        "!pip install mailjet_rest\n",
        "\n",
        "#Importing the mailjet Client\n",
        "from mailjet_rest import Client"
      ],
      "metadata": {
        "id": "eazJGzu4cT8C",
        "colab": {
          "base_uri": "https://localhost:8080/"
        },
        "outputId": "11f76036-322f-4fa8-ab63-53d35a18cfc8"
      },
      "execution_count": null,
      "outputs": [
        {
          "output_type": "stream",
          "name": "stdout",
          "text": [
            "Looking in indexes: https://pypi.org/simple, https://us-python.pkg.dev/colab-wheels/public/simple/\n",
            "Requirement already satisfied: mailjet_rest in /usr/local/lib/python3.10/dist-packages (1.3.4)\n",
            "Requirement already satisfied: requests>=2.4.3 in /usr/local/lib/python3.10/dist-packages (from mailjet_rest) (2.27.1)\n",
            "Requirement already satisfied: urllib3<1.27,>=1.21.1 in /usr/local/lib/python3.10/dist-packages (from requests>=2.4.3->mailjet_rest) (1.26.15)\n",
            "Requirement already satisfied: certifi>=2017.4.17 in /usr/local/lib/python3.10/dist-packages (from requests>=2.4.3->mailjet_rest) (2022.12.7)\n",
            "Requirement already satisfied: charset-normalizer~=2.0.0 in /usr/local/lib/python3.10/dist-packages (from requests>=2.4.3->mailjet_rest) (2.0.12)\n",
            "Requirement already satisfied: idna<4,>=2.5 in /usr/local/lib/python3.10/dist-packages (from requests>=2.4.3->mailjet_rest) (3.4)\n"
          ]
        }
      ]
    },
    {
      "cell_type": "markdown",
      "source": [
        "**Connection to Mailjet**"
      ],
      "metadata": {
        "id": "9OCv0stb1dXF"
      }
    },
    {
      "cell_type": "code",
      "source": [
        "# Public API key of the account sending mails on Mailjet\n",
        "api_key = '9c070e588a0ec0119c8243cfb0b451fe'\n",
        "# Private API\n",
        "api_secret = 'eae24fcdd9e26b0bf66c3a25ed02a0ea'"
      ],
      "metadata": {
        "id": "qKZ13L9PbUHb"
      },
      "execution_count": null,
      "outputs": []
    },
    {
      "cell_type": "code",
      "source": [
        "#Connection to the Mailjet client\n",
        "mailjet = Client(auth=(api_key, api_secret), version='v3.1')"
      ],
      "metadata": {
        "id": "MEuP6xkDV-IW"
      },
      "execution_count": null,
      "outputs": []
    },
    {
      "cell_type": "markdown",
      "source": [
        "**Building the emails to send (startups & news)**"
      ],
      "metadata": {
        "id": "8Am08NAlX7Kr"
      }
    },
    {
      "cell_type": "code",
      "source": [
        "all_emails = list()\n",
        "for i, variables in enumerate(all_mail_informations):\n",
        "  if i < len(all_html):\n",
        "\n",
        "    # News and startups\n",
        "\n",
        "    # all_emails.append({\n",
        "    #       'Messages': [\n",
        "    #         {\n",
        "    #           \"From\": {\n",
        "    #             \"Email\": \"contact@ehealthventure.com\",\n",
        "    #             \"Name\": \"Marius Declerck\"\n",
        "    #           },\n",
        "    #           \"To\": [\n",
        "    #             {\n",
        "    #               \"Email\": variables['address'],\n",
        "    #               \"Name\": variables['first_name']\n",
        "    #             }\n",
        "    #           ],\n",
        "    #           \"TemplateID\": 4723481,\n",
        "    #           \"TemplateLanguage\": True,\n",
        "    #           \"Subject\": \"EHV Newsletter\",\n",
        "    #           \"Variables\": variables\n",
        "    #         }\n",
        "    #       ]\n",
        "    #     })\n",
        "\n",
        "    # Calls\n",
        "\n",
        "    all_emails.append({\n",
        "    'Messages': [\n",
        "          {\n",
        "              \"From\": {\n",
        "                  \"Email\": \"contact@ehealthventure.com\",\n",
        "                  \"Name\": \"Séamus Carey\"\n",
        "              },\n",
        "              \"To\": [\n",
        "                  {\n",
        "                      \"Email\": variables['address'],\n",
        "                      \"Name\": variables['first_name']\n",
        "                  }\n",
        "              ],\n",
        "              \"HTMLPart\": all_html[i],\n",
        "              \"Subject\": \"E-Health Venture Newsletter\",\n",
        "              \"Variables\": {\n",
        "\t\t\t\t\t\t\t\t\"Name\": variables['first_name']\n",
        "\t\t\t\t\t\t}\n",
        "          }\n",
        "        ]\n",
        "      })"
      ],
      "metadata": {
        "id": "G6u6Ny7R1PMr"
      },
      "execution_count": null,
      "outputs": []
    },
    {
      "cell_type": "markdown",
      "source": [
        "**Sending the email**"
      ],
      "metadata": {
        "id": "1lEvZUAbZDKY"
      }
    },
    {
      "cell_type": "code",
      "source": [
        "success_message = \"\"\n",
        "#Sending all the emails\n",
        "for email in all_emails:\n",
        "  result = mailjet.send.create(data=email)\n",
        "  success_message += f\"Mail sent successfully to {email['Messages'][0]['To'][0]['Email']}\\n\""
      ],
      "metadata": {
        "id": "R22iLHy1ZFVF"
      },
      "execution_count": null,
      "outputs": []
    },
    {
      "cell_type": "markdown",
      "source": [
        "# **Check here if mails have been sent**"
      ],
      "metadata": {
        "id": "DSXEKyxQb3uu"
      }
    },
    {
      "cell_type": "code",
      "source": [
        "print(success_message)"
      ],
      "metadata": {
        "id": "TuIt0W_hb-ac",
        "colab": {
          "base_uri": "https://localhost:8080/"
        },
        "outputId": "bbb2154f-af8b-4580-88ca-28eb96f433ec"
      },
      "execution_count": null,
      "outputs": [
        {
          "output_type": "stream",
          "name": "stdout",
          "text": [
            "Mail sent successfully to yassine.chenik@ehealthventure.com\n",
            "Mail sent successfully to sca@alt-f1.be\n",
            "Mail sent successfully to contact@ehealthventure.com\n",
            "Mail sent successfully to abo+ehv_newsletter@alt-f1.be\n",
            "Mail sent successfully to jason.pettiaux@ehealthventure.com\n",
            "Mail sent successfully to aam@alt-f1.be\n",
            "\n"
          ]
        }
      ]
    }
  ]
}